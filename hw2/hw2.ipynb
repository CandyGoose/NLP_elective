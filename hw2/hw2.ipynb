{
 "cells": [
  {
   "cell_type": "code",
   "execution_count": null,
   "metadata": {
    "id": "gmIxRWakyQRq",
    "colab": {
     "base_uri": "https://localhost:8080/"
    },
    "outputId": "2ccee6ae-f8f4-4642-c8b6-3a6139760122"
   },
   "outputs": [],
   "source": [
    "!pip install datasets evaluate sentence_transformers > None\n",
    "!pip install transformers accelerate"
   ]
  },
  {
   "cell_type": "code",
   "source": [
    "import numpy as np\n",
    "import evaluate\n",
    "from datasets import load_dataset\n",
    "from transformers import AutoTokenizer, AutoModelForSequenceClassification, TrainingArguments, Trainer\n",
    "from sklearn.metrics import accuracy_score, precision_score, f1_score"
   ],
   "metadata": {
    "id": "8U8rugacRWDT"
   },
   "execution_count": 2,
   "outputs": []
  },
  {
   "cell_type": "markdown",
   "metadata": {
    "id": "0xSnMKTkyQRu"
   },
   "source": [
    "# Подготовка\n",
    "Данные - [Emotion](https://huggingface.co/datasets/philschmid/emotion)"
   ]
  },
  {
   "cell_type": "code",
   "execution_count": 3,
   "metadata": {
    "id": "348SdfqyyQRw",
    "outputId": "8f658c1e-7f9f-46e6-dde7-8fa89a1b99f9",
    "colab": {
     "base_uri": "https://localhost:8080/"
    },
    "ExecuteTime": {
     "end_time": "2023-10-28T09:57:52.180160200Z",
     "start_time": "2023-10-28T09:56:08.439464200Z"
    }
   },
   "outputs": [
    {
     "output_type": "execute_result",
     "data": {
      "text/plain": [
       "{'text': 'i wont let me child cry it out because i feel that loving her and lily when she was little was going to be opportunities that only lasted for those short few months',\n",
       " 'label': 2}"
      ]
     },
     "metadata": {},
     "execution_count": 3
    }
   ],
   "source": [
    "dataset = load_dataset(\"emotion\")\n",
    "dataset[\"train\"][100]"
   ]
  },
  {
   "cell_type": "code",
   "execution_count": 4,
   "metadata": {
    "id": "aB1ey1e1yQRy",
    "ExecuteTime": {
     "end_time": "2023-10-28T10:00:47.723628200Z",
     "start_time": "2023-10-28T09:57:52.182161100Z"
    }
   },
   "outputs": [],
   "source": [
    "model_name=\"bert-base-cased\"\n",
    "tokenizer = AutoTokenizer.from_pretrained(model_name)\n",
    "\n",
    "def tokenize_function(examples):\n",
    "    return tokenizer(examples[\"text\"], padding=\"max_length\", truncation=True)\n",
    "\n",
    "tokenized_datasets = dataset.map(tokenize_function, batched=True)"
   ]
  },
  {
   "cell_type": "code",
   "execution_count": 5,
   "metadata": {
    "id": "2zXPMg5JyQRy",
    "ExecuteTime": {
     "end_time": "2023-10-28T10:00:47.983750Z",
     "start_time": "2023-10-28T10:00:47.724629800Z"
    }
   },
   "outputs": [],
   "source": [
    "train_dataset = tokenized_datasets[\"train\"].shuffle(seed=100).select(range(1000))\n",
    "eval_dataset = tokenized_datasets[\"test\"].shuffle(seed=100).select(range(1000))"
   ]
  },
  {
   "cell_type": "markdown",
   "metadata": {
    "id": "ktUAGr_8yQRz"
   },
   "source": [
    "<a id='trainer'></a>"
   ]
  },
  {
   "cell_type": "markdown",
   "metadata": {
    "id": "A4LYypvyyQRz"
   },
   "source": [
    "# Обучение"
   ]
  },
  {
   "cell_type": "code",
   "execution_count": 6,
   "metadata": {
    "id": "BW5geSGDyQR0",
    "colab": {
     "base_uri": "https://localhost:8080/"
    },
    "outputId": "47d4105f-0a3d-4fea-d74c-708aec3cdcd8",
    "ExecuteTime": {
     "end_time": "2023-10-28T10:02:01.410350200Z",
     "start_time": "2023-10-28T10:00:47.989354300Z"
    }
   },
   "outputs": [
    {
     "output_type": "stream",
     "name": "stderr",
     "text": [
      "Some weights of BertForSequenceClassification were not initialized from the model checkpoint at bert-base-cased and are newly initialized: ['classifier.bias', 'classifier.weight']\n",
      "You should probably TRAIN this model on a down-stream task to be able to use it for predictions and inference.\n"
     ]
    }
   ],
   "source": [
    "model = AutoModelForSequenceClassification.from_pretrained(model_name, num_labels=6)"
   ]
  },
  {
   "cell_type": "code",
   "execution_count": 7,
   "metadata": {
    "id": "B_MJHt-GyQR2",
    "ExecuteTime": {
     "end_time": "2023-10-28T10:02:08.833862Z",
     "start_time": "2023-10-28T10:02:01.411351100Z"
    }
   },
   "outputs": [],
   "source": [
    "metric = evaluate.load(\"accuracy\")"
   ]
  },
  {
   "cell_type": "code",
   "execution_count": 8,
   "metadata": {
    "id": "IFFlPYFNyQR2",
    "ExecuteTime": {
     "end_time": "2023-10-28T10:02:08.850709900Z",
     "start_time": "2023-10-28T10:02:08.849194Z"
    }
   },
   "outputs": [],
   "source": [
    "def compute_metrics(eval_pred):\n",
    "    logits, labels = eval_pred\n",
    "    predictions = np.argmax(logits, axis=-1)\n",
    "\n",
    "    accuracy = accuracy_score(labels, predictions)\n",
    "    precision = precision_score(labels, predictions, average='weighted', zero_division=0)\n",
    "    f1 = f1_score(labels, predictions, average='weighted', zero_division=0)\n",
    "\n",
    "    return {\n",
    "        'accuracy': accuracy,\n",
    "        'precision': precision,\n",
    "        'f1': f1\n",
    "    }"
   ]
  },
  {
   "cell_type": "code",
   "execution_count": 9,
   "metadata": {
    "id": "yExC6cm7yQR3",
    "ExecuteTime": {
     "end_time": "2023-10-28T10:02:08.946171900Z",
     "start_time": "2023-10-28T10:02:08.881486800Z"
    }
   },
   "outputs": [],
   "source": [
    "training_args = TrainingArguments(output_dir=\"test_trainer\", evaluation_strategy=\"epoch\", seed=100)\n",
    "\n",
    "trainer = Trainer(\n",
    "    model=model,\n",
    "    args=training_args,\n",
    "    train_dataset=train_dataset,\n",
    "    eval_dataset=eval_dataset,\n",
    "    compute_metrics=compute_metrics,\n",
    ")"
   ]
  },
  {
   "cell_type": "code",
   "source": [
    "result_before_tuning = trainer.evaluate(eval_dataset=eval_dataset)"
   ],
   "metadata": {
    "colab": {
     "base_uri": "https://localhost:8080/",
     "height": 37
    },
    "id": "vtOA9E1ENFkP",
    "outputId": "905621ef-11f9-4e2a-fd6e-d80bdcb183c0"
   },
   "execution_count": 10,
   "outputs": [
    {
     "output_type": "display_data",
     "data": {
      "text/plain": [
       "<IPython.core.display.HTML object>"
      ],
      "text/html": [
       "\n",
       "    <div>\n",
       "      \n",
       "      <progress value='125' max='125' style='width:300px; height:20px; vertical-align: middle;'></progress>\n",
       "      [125/125 00:34]\n",
       "    </div>\n",
       "    "
      ]
     },
     "metadata": {}
    }
   ]
  },
  {
   "cell_type": "code",
   "execution_count": 11,
   "metadata": {
    "id": "syHAFsEYyQR3",
    "is_executing": true,
    "ExecuteTime": {
     "start_time": "2023-10-28T10:02:08.947904100Z"
    },
    "colab": {
     "base_uri": "https://localhost:8080/",
     "height": 224
    },
    "outputId": "6625dc85-7e8d-482a-a758-51d400cf8323"
   },
   "outputs": [
    {
     "output_type": "display_data",
     "data": {
      "text/plain": [
       "<IPython.core.display.HTML object>"
      ],
      "text/html": [
       "\n",
       "    <div>\n",
       "      \n",
       "      <progress value='375' max='375' style='width:300px; height:20px; vertical-align: middle;'></progress>\n",
       "      [375/375 06:29, Epoch 3/3]\n",
       "    </div>\n",
       "    <table border=\"1\" class=\"dataframe\">\n",
       "  <thead>\n",
       " <tr style=\"text-align: left;\">\n",
       "      <th>Epoch</th>\n",
       "      <th>Training Loss</th>\n",
       "      <th>Validation Loss</th>\n",
       "      <th>Accuracy</th>\n",
       "      <th>Precision</th>\n",
       "      <th>F1</th>\n",
       "    </tr>\n",
       "  </thead>\n",
       "  <tbody>\n",
       "    <tr>\n",
       "      <td>1</td>\n",
       "      <td>No log</td>\n",
       "      <td>0.800497</td>\n",
       "      <td>0.726000</td>\n",
       "      <td>0.659983</td>\n",
       "      <td>0.671311</td>\n",
       "    </tr>\n",
       "    <tr>\n",
       "      <td>2</td>\n",
       "      <td>No log</td>\n",
       "      <td>0.567761</td>\n",
       "      <td>0.825000</td>\n",
       "      <td>0.814577</td>\n",
       "      <td>0.814249</td>\n",
       "    </tr>\n",
       "    <tr>\n",
       "      <td>3</td>\n",
       "      <td>No log</td>\n",
       "      <td>0.491459</td>\n",
       "      <td>0.854000</td>\n",
       "      <td>0.852976</td>\n",
       "      <td>0.852948</td>\n",
       "    </tr>\n",
       "  </tbody>\n",
       "</table><p>"
      ]
     },
     "metadata": {}
    },
    {
     "output_type": "display_data",
     "data": {
      "text/plain": [
       "<IPython.core.display.HTML object>"
      ],
      "text/html": [
       "\n",
       "    <div>\n",
       "      \n",
       "      <progress value='250' max='125' style='width:300px; height:20px; vertical-align: middle;'></progress>\n",
       "      [125/125 02:45]\n",
       "    </div>\n",
       "    "
      ]
     },
     "metadata": {}
    },
    {
     "output_type": "execute_result",
     "data": {
      "text/plain": [
       "TrainOutput(global_step=375, training_loss=0.6724299723307292, metrics={'train_runtime': 390.0069, 'train_samples_per_second': 7.692, 'train_steps_per_second': 0.962, 'total_flos': 789361514496000.0, 'train_loss': 0.6724299723307292, 'epoch': 3.0})"
      ]
     },
     "metadata": {},
     "execution_count": 11
    }
   ],
   "source": [
    "trainer.train()"
   ]
  },
  {
   "cell_type": "code",
   "source": [
    "result_after_tuning = trainer.evaluate()"
   ],
   "metadata": {
    "id": "cDvpy2eoNJUU",
    "colab": {
     "base_uri": "https://localhost:8080/",
     "height": 37
    },
    "outputId": "ba61f0b7-ce37-42f0-d480-94af046d20e9"
   },
   "execution_count": 12,
   "outputs": [
    {
     "output_type": "display_data",
     "data": {
      "text/plain": [
       "<IPython.core.display.HTML object>"
      ],
      "text/html": [
       "\n",
       "    <div>\n",
       "      \n",
       "      <progress value='125' max='125' style='width:300px; height:20px; vertical-align: middle;'></progress>\n",
       "      [125/125 00:34]\n",
       "    </div>\n",
       "    "
      ]
     },
     "metadata": {}
    }
   ]
  },
  {
   "cell_type": "markdown",
   "source": [
    "# Оценка качества"
   ],
   "metadata": {
    "id": "vFfIHkzyc0e0"
   }
  },
  {
   "cell_type": "code",
   "source": [
    "print(\"Metrics on the evaluation dataset before tuning:\")\n",
    "for key, value in result_before_tuning.items():\n",
    "    print(f\"{key}: {value}\")\n",
    "\n",
    "print(\"\\nMetrics on the evaluation dataset after tuning:\")\n",
    "for key, value in result_after_tuning.items():\n",
    "    print(f\"{key}: {value}\")"
   ],
   "metadata": {
    "id": "sB4kM2RnQAoZ",
    "colab": {
     "base_uri": "https://localhost:8080/"
    },
    "outputId": "c09aef0b-b65a-4edd-cb21-715236d155d1"
   },
   "execution_count": 13,
   "outputs": [
    {
     "output_type": "stream",
     "name": "stdout",
     "text": [
      "Metrics on the evaluation dataset before tuning:\n",
      "eval_loss: 1.7197792530059814\n",
      "eval_accuracy: 0.362\n",
      "eval_precision: 0.131044\n",
      "eval_f1: 0.19242878120411158\n",
      "eval_runtime: 36.2503\n",
      "eval_samples_per_second: 27.586\n",
      "eval_steps_per_second: 3.448\n",
      "\n",
      "Metrics on the evaluation dataset after tuning:\n",
      "eval_loss: 0.49145910143852234\n",
      "eval_accuracy: 0.854\n",
      "eval_precision: 0.8529758380399255\n",
      "eval_f1: 0.8529481849914955\n",
      "eval_runtime: 34.7584\n",
      "eval_samples_per_second: 28.77\n",
      "eval_steps_per_second: 3.596\n",
      "epoch: 3.0\n"
     ]
    }
   ]
  },
  {
   "cell_type": "markdown",
   "metadata": {
    "id": "5lDEpsaCyQR3"
   },
   "source": [
    "<a id='pytorch_native'></a>"
   ]
  }
 ],
 "metadata": {
  "colab": {
   "provenance": []
  },
  "language_info": {
   "name": "python"
  },
  "kernelspec": {
   "name": "python3",
   "language": "python",
   "display_name": "Python 3 (ipykernel)"
  },
  "gpuClass": "standard",
  "accelerator": "GPU"
 },
 "nbformat": 4,
 "nbformat_minor": 0
}
