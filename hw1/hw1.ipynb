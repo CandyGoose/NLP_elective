{
 "cells": [
  {
   "cell_type": "markdown",
   "source": [
    "# Установка библиотек"
   ],
   "metadata": {
    "collapsed": false
   },
   "id": "950c4abc11bb5074"
  },
  {
   "cell_type": "code",
   "execution_count": null,
   "outputs": [],
   "source": [
    "!pip install pandas\n",
    "!pip install nltk\n",
    "!pip install scikit-learn\n",
    "!pip install spacy"
   ],
   "metadata": {
    "collapsed": false
   },
   "id": "3c6f04c4a3adbeb0"
  },
  {
   "cell_type": "code",
   "execution_count": null,
   "outputs": [],
   "source": [
    "!python -m spacy download en_core_web_sm"
   ],
   "metadata": {
    "collapsed": false
   },
   "id": "666b8d791c103826"
  },
  {
   "cell_type": "code",
   "execution_count": 3,
   "outputs": [],
   "source": [
    "import pandas as pd\n",
    "import numpy as np\n",
    "import itertools\n",
    "\n",
    "import spacy\n",
    "from sklearn.model_selection import train_test_split\n",
    "\n",
    "from sklearn.feature_extraction.text import CountVectorizer, TfidfVectorizer\n",
    "from sklearn.metrics import f1_score, classification_report\n",
    "\n",
    "from sklearn.model_selection import GridSearchCV, cross_val_score\n",
    "from sklearn.tree import DecisionTreeClassifier\n",
    "from sklearn.linear_model import LogisticRegression\n",
    "from sklearn.naive_bayes import MultinomialNB"
   ],
   "metadata": {
    "collapsed": false,
    "ExecuteTime": {
     "end_time": "2023-10-26T12:59:43.075718900Z",
     "start_time": "2023-10-26T12:59:39.027474Z"
    }
   },
   "id": "261317101ce21b45"
  },
  {
   "cell_type": "markdown",
   "source": [
    "# Загрузка данных"
   ],
   "metadata": {
    "collapsed": false
   },
   "id": "f44c0e8e39dc9a68"
  },
  {
   "cell_type": "code",
   "execution_count": 4,
   "outputs": [
    {
     "name": "stdout",
     "output_type": "stream",
     "text": [
      "<class 'pandas.core.frame.DataFrame'>\n",
      "Index: 2999 entries, 0 to 2999\n",
      "Data columns (total 2 columns):\n",
      " #   Column  Non-Null Count  Dtype \n",
      "---  ------  --------------  ----- \n",
      " 0   email   2999 non-null   object\n",
      " 1   label   2999 non-null   int64 \n",
      "dtypes: int64(1), object(1)\n",
      "memory usage: 70.3+ KB\n"
     ]
    },
    {
     "data": {
      "text/plain": "                                               email  label\n0   date wed NUMBER aug NUMBER NUMBER NUMBER NUMB...      0\n1  martin a posted tassos papadopoulos the greek ...      0\n2  man threatens explosion in moscow thursday aug...      0\n3  klez the virus that won t die already the most...      0\n4   in adding cream to spaghetti carbonara which ...      0",
      "text/html": "<div>\n<style scoped>\n    .dataframe tbody tr th:only-of-type {\n        vertical-align: middle;\n    }\n\n    .dataframe tbody tr th {\n        vertical-align: top;\n    }\n\n    .dataframe thead th {\n        text-align: right;\n    }\n</style>\n<table border=\"1\" class=\"dataframe\">\n  <thead>\n    <tr style=\"text-align: right;\">\n      <th></th>\n      <th>email</th>\n      <th>label</th>\n    </tr>\n  </thead>\n  <tbody>\n    <tr>\n      <th>0</th>\n      <td>date wed NUMBER aug NUMBER NUMBER NUMBER NUMB...</td>\n      <td>0</td>\n    </tr>\n    <tr>\n      <th>1</th>\n      <td>martin a posted tassos papadopoulos the greek ...</td>\n      <td>0</td>\n    </tr>\n    <tr>\n      <th>2</th>\n      <td>man threatens explosion in moscow thursday aug...</td>\n      <td>0</td>\n    </tr>\n    <tr>\n      <th>3</th>\n      <td>klez the virus that won t die already the most...</td>\n      <td>0</td>\n    </tr>\n    <tr>\n      <th>4</th>\n      <td>in adding cream to spaghetti carbonara which ...</td>\n      <td>0</td>\n    </tr>\n  </tbody>\n</table>\n</div>"
     },
     "execution_count": 4,
     "metadata": {},
     "output_type": "execute_result"
    }
   ],
   "source": [
    "data = pd.read_csv('spam_or_not_spam.csv')\n",
    "data.dropna(inplace=True)\n",
    "data.info()\n",
    "data.head()"
   ],
   "metadata": {
    "collapsed": false,
    "ExecuteTime": {
     "end_time": "2023-10-26T12:59:43.212495200Z",
     "start_time": "2023-10-26T12:59:43.081132600Z"
    }
   },
   "id": "749f12a313644037"
  },
  {
   "cell_type": "markdown",
   "source": [
    "# Обработка текстовых данных"
   ],
   "metadata": {
    "collapsed": false
   },
   "id": "14d9d3b2fed5b8d4"
  },
  {
   "cell_type": "code",
   "execution_count": 5,
   "outputs": [],
   "source": [
    "nlp = spacy.load(\"en_core_web_sm\")\n",
    "data['text'] = data['email'].apply(\n",
    "    lambda x: ' '.join(\n",
    "        token.lemma_.lower() for token in nlp(x) if\n",
    "        not token.is_stop\n",
    "        and not token.is_punct\n",
    "        and not token.is_digit\n",
    "        and not token.like_email\n",
    "        and not token.like_num\n",
    "        and not token.is_space\n",
    "    )\n",
    ")\n",
    "\n",
    "X = data['text']\n",
    "y = data['label']\n",
    "X_train, X_test, y_train, y_test = train_test_split(X, y, random_state=3000)"
   ],
   "metadata": {
    "collapsed": false,
    "ExecuteTime": {
     "end_time": "2023-10-26T13:03:35.598988900Z",
     "start_time": "2023-10-26T12:59:43.212495200Z"
    }
   },
   "id": "10c4642edddd1226"
  },
  {
   "cell_type": "markdown",
   "source": [
    "# Векторизация текстовых данных с использованием CountVectorizer и TfidfVectorizer"
   ],
   "metadata": {
    "collapsed": false
   },
   "id": "84392bc841b41415"
  },
  {
   "cell_type": "code",
   "execution_count": 6,
   "outputs": [],
   "source": [
    "count_vectorizer = CountVectorizer(max_df=0.7, min_df=0.003, stop_words='english')\n",
    "X_train_count = count_vectorizer.fit_transform(X_train)\n",
    "X_test_count = count_vectorizer.transform(X_test)\n",
    "\n",
    "tfidf_vectorizer = TfidfVectorizer(max_df=0.7, min_df=0.003, stop_words='english')\n",
    "X_train_tfidf = tfidf_vectorizer.fit_transform(X_train)\n",
    "X_test_tfidf = tfidf_vectorizer.transform(X_test)"
   ],
   "metadata": {
    "collapsed": false,
    "ExecuteTime": {
     "end_time": "2023-10-26T13:03:37.746970Z",
     "start_time": "2023-10-26T13:03:35.602012700Z"
    }
   },
   "id": "52e5affd67c623c0"
  },
  {
   "cell_type": "markdown",
   "source": [
    "# Сравнение способов векторизации на примере классификатора MultinomialNB"
   ],
   "metadata": {
    "collapsed": false
   },
   "id": "6dc30861b3779602"
  },
  {
   "cell_type": "code",
   "execution_count": 7,
   "outputs": [
    {
     "name": "stdout",
     "output_type": "stream",
     "text": [
      "CountVectorizer F1 Score: 0.9812696932972873\n",
      "TfidfVectorizer F1 Score: 0.9667954545454545\n",
      "CountVectorizer classification report:\n",
      "              precision    recall  f1-score   support\n",
      "\n",
      "           0       0.99      0.99      0.99       630\n",
      "           1       0.95      0.93      0.94       120\n",
      "\n",
      "    accuracy                           0.98       750\n",
      "   macro avg       0.97      0.96      0.97       750\n",
      "weighted avg       0.98      0.98      0.98       750\n",
      "\n",
      "TfidfVectorizer classification report:\n",
      "              precision    recall  f1-score   support\n",
      "\n",
      "           0       0.97      1.00      0.98       630\n",
      "           1       0.98      0.82      0.89       120\n",
      "\n",
      "    accuracy                           0.97       750\n",
      "   macro avg       0.97      0.91      0.94       750\n",
      "weighted avg       0.97      0.97      0.97       750\n"
     ]
    }
   ],
   "source": [
    "nb_count = MultinomialNB()\n",
    "nb_count.fit(X_train_count, y_train)\n",
    "y_pred_count = nb_count.predict(X_test_count)\n",
    "\n",
    "nb_tfidf = MultinomialNB()\n",
    "nb_tfidf.fit(X_train_tfidf, y_train)\n",
    "y_pred_tfidf = nb_tfidf.predict(X_test_tfidf)\n",
    "\n",
    "f1_count = f1_score(y_test, y_pred_count, average='weighted')\n",
    "f1_tfidf = f1_score(y_test, y_pred_tfidf, average='weighted')\n",
    "\n",
    "report_count = classification_report(y_test, y_pred_count)\n",
    "report_tfidf = classification_report(y_test, y_pred_tfidf)\n",
    "\n",
    "print(\"CountVectorizer F1 Score:\", f1_count)\n",
    "print(\"TfidfVectorizer F1 Score:\", f1_tfidf)\n",
    "\n",
    "print(\"CountVectorizer classification report:\")\n",
    "print(report_count)\n",
    "\n",
    "print(\"TfidfVectorizer classification report:\")\n",
    "print(report_tfidf)"
   ],
   "metadata": {
    "collapsed": false,
    "ExecuteTime": {
     "end_time": "2023-10-26T13:03:37.884631400Z",
     "start_time": "2023-10-26T13:03:37.757022300Z"
    }
   },
   "id": "5f4474d086e572a"
  },
  {
   "cell_type": "code",
   "execution_count": 8,
   "outputs": [
    {
     "name": "stdout",
     "output_type": "stream",
     "text": [
      "Best vectorization method: CountVectorizer\n"
     ]
    }
   ],
   "source": [
    "best_vectorizer = \"CountVectorizer\" if f1_count > f1_tfidf else \"TfidfVectorizer\"\n",
    "print(f\"Best vectorization method: {best_vectorizer}\")"
   ],
   "metadata": {
    "collapsed": false,
    "ExecuteTime": {
     "end_time": "2023-10-26T13:03:37.886623400Z",
     "start_time": "2023-10-26T13:03:37.868223300Z"
    }
   },
   "id": "822ce5855168689e"
  },
  {
   "cell_type": "markdown",
   "source": [
    "# Каждая модель обучается с разными комбинациями параметров, а затем оценивается с использованием кросс-валидации"
   ],
   "metadata": {
    "collapsed": false
   },
   "id": "a325b99fff111e1"
  },
  {
   "cell_type": "code",
   "execution_count": 9,
   "outputs": [
    {
     "name": "stdout",
     "output_type": "stream",
     "text": [
      "Training DecisionTree using CountVectorizer...\n",
      "Training LogisticRegression using CountVectorizer...\n",
      "Training NaiveBayes using CountVectorizer...\n",
      "Training DecisionTree using TfidfVectorizer...\n",
      "Training LogisticRegression using TfidfVectorizer...\n",
      "Training NaiveBayes using TfidfVectorizer...\n",
      "DecisionTree with CountVectorizer Best parameters: {'criterion': 'gini', 'max_depth': 30, 'min_samples_leaf': 2, 'min_samples_split': 2}\n",
      "DecisionTree with CountVectorizer Cross-validation scores: [0.96222222 0.94222222 0.95333333 0.95777778 0.94654788]\n",
      "DecisionTree with CountVectorizer Mean cross-validation score: 0.9524206879485275\n",
      "LogisticRegression with CountVectorizer Best parameters: {'C': 0.1, 'class_weight': 'balanced', 'solver': 'liblinear'}\n",
      "LogisticRegression with CountVectorizer Cross-validation scores: [0.98222222 0.98666667 0.98444444 0.97777778 0.98663697]\n",
      "LogisticRegression with CountVectorizer Mean cross-validation score: 0.9835496164315763\n",
      "NaiveBayes with CountVectorizer Best parameters: {'alpha': 0.1}\n",
      "NaiveBayes with CountVectorizer Cross-validation scores: [0.98888889 0.98888889 0.98222222 0.97777778 0.98663697]\n",
      "NaiveBayes with CountVectorizer Mean cross-validation score: 0.9848829497649098\n",
      "DecisionTree with TfidfVectorizer Best parameters: {'criterion': 'entropy', 'max_depth': 30, 'min_samples_leaf': 1, 'min_samples_split': 5}\n",
      "DecisionTree with TfidfVectorizer Cross-validation scores: [0.94666667 0.93777778 0.95111111 0.95333333 0.94877506]\n",
      "DecisionTree with TfidfVectorizer Mean cross-validation score: 0.9475327889136352\n",
      "LogisticRegression with TfidfVectorizer Best parameters: {'C': 1000, 'class_weight': None, 'solver': 'liblinear'}\n",
      "LogisticRegression with TfidfVectorizer Cross-validation scores: [0.98222222 0.98888889 0.98666667 0.98444444 0.99109131]\n",
      "LogisticRegression with TfidfVectorizer Mean cross-validation score: 0.9866627072506805\n",
      "NaiveBayes with TfidfVectorizer Best parameters: {'alpha': 0.1}\n",
      "NaiveBayes with TfidfVectorizer Cross-validation scores: [0.98666667 0.98666667 0.98666667 0.97333333 0.98886414]\n",
      "NaiveBayes with TfidfVectorizer Mean cross-validation score: 0.9844394951744618\n"
     ]
    }
   ],
   "source": [
    "models = {\n",
    "    \"DecisionTree\": (DecisionTreeClassifier(random_state=1000), {\n",
    "        'max_depth': [None, 10, 20, 30, 50, 100],\n",
    "        'min_samples_split': [2, 5, 10, 20, 50],\n",
    "        'min_samples_leaf': [1, 2, 4, 8],\n",
    "        'criterion': [\"gini\", \"entropy\"]\n",
    "    }),\n",
    "    \"LogisticRegression\": (LogisticRegression(max_iter=10000), {\n",
    "        'C': [0.01, 0.1, 1, 10, 100, 1000],\n",
    "        'solver': ['liblinear', 'lbfgs', 'newton-cg'],\n",
    "        'class_weight': [None, 'balanced']\n",
    "    }),\n",
    "    \"NaiveBayes\": (MultinomialNB(), {\n",
    "        'alpha': [0.001, 0.01, 0.1, 0.5, 1.0, 2.0]\n",
    "    })\n",
    "}\n",
    "\n",
    "vectorizers = {\n",
    "    \"CountVectorizer\": X_train_count,\n",
    "    \"TfidfVectorizer\": X_train_tfidf\n",
    "}\n",
    "\n",
    "results = {}\n",
    "\n",
    "combinations = list(itertools.product(vectorizers.items(), models.items()))\n",
    "\n",
    "for (vectorizer_name, X_train_vec), (model_name, (model, param_grid)) in combinations:\n",
    "    print(f\"Training {model_name} using {vectorizer_name}...\")\n",
    "\n",
    "    grid_search = GridSearchCV(model, param_grid, cv=5, scoring='f1_weighted', n_jobs=-1)\n",
    "    grid_search.fit(X_train_vec, y_train)\n",
    "    best_model = grid_search.best_estimator_\n",
    "\n",
    "    cv_scores = cross_val_score(best_model, X_train_vec, y_train, cv=5)\n",
    "    mean_cv_score = np.mean(cv_scores)\n",
    "\n",
    "    results[f\"{model_name} with {vectorizer_name}\"] = {\n",
    "        'best_model': best_model,\n",
    "        'best_params': grid_search.best_params_,\n",
    "        'cv_scores': cv_scores,\n",
    "        'mean_cv_score': mean_cv_score\n",
    "    }\n",
    "\n",
    "for model_name, result in results.items():\n",
    "    print(f\"{model_name} Best parameters: {result['best_params']}\")\n",
    "    print(f\"{model_name} Cross-validation scores: {result['cv_scores']}\")\n",
    "    print(f\"{model_name} Mean cross-validation score: {result['mean_cv_score']}\")"
   ],
   "metadata": {
    "collapsed": false,
    "ExecuteTime": {
     "end_time": "2023-10-26T13:08:22.682266200Z",
     "start_time": "2023-10-26T13:03:37.880696600Z"
    }
   },
   "id": "ec6f2a41ac568960"
  },
  {
   "cell_type": "markdown",
   "source": [
    "# Сравнение качества обученных моделей"
   ],
   "metadata": {
    "collapsed": false
   },
   "id": "b23fa7cd3ff9bdeb"
  },
  {
   "cell_type": "code",
   "execution_count": 10,
   "outputs": [
    {
     "name": "stdout",
     "output_type": "stream",
     "text": [
      "DecisionTree with CountVectorizer Test f1: 0.9549647542486961\n",
      "DecisionTree with CountVectorizer Test classification report:\n",
      "              precision    recall  f1-score   support\n",
      "\n",
      "           0       0.96      0.98      0.97       630\n",
      "           1       0.91      0.81      0.85       120\n",
      "\n",
      "    accuracy                           0.96       750\n",
      "   macro avg       0.94      0.90      0.91       750\n",
      "weighted avg       0.96      0.96      0.95       750\n",
      "\n",
      "LogisticRegression with CountVectorizer Test f1: 0.9946666666666667\n",
      "LogisticRegression with CountVectorizer Test classification report:\n",
      "              precision    recall  f1-score   support\n",
      "\n",
      "           0       1.00      1.00      1.00       630\n",
      "           1       0.98      0.98      0.98       120\n",
      "\n",
      "    accuracy                           0.99       750\n",
      "   macro avg       0.99      0.99      0.99       750\n",
      "weighted avg       0.99      0.99      0.99       750\n",
      "\n",
      "NaiveBayes with CountVectorizer Test f1: 0.9824541768430038\n",
      "NaiveBayes with CountVectorizer Test classification report:\n",
      "              precision    recall  f1-score   support\n",
      "\n",
      "           0       0.98      1.00      0.99       630\n",
      "           1       0.97      0.92      0.94       120\n",
      "\n",
      "    accuracy                           0.98       750\n",
      "   macro avg       0.98      0.96      0.97       750\n",
      "weighted avg       0.98      0.98      0.98       750\n",
      "\n",
      "DecisionTree with TfidfVectorizer Test f1: 0.9535116211222406\n",
      "DecisionTree with TfidfVectorizer Test classification report:\n",
      "              precision    recall  f1-score   support\n",
      "\n",
      "           0       0.96      0.98      0.97       630\n",
      "           1       0.91      0.80      0.85       120\n",
      "\n",
      "    accuracy                           0.95       750\n",
      "   macro avg       0.93      0.89      0.91       750\n",
      "weighted avg       0.95      0.95      0.95       750\n",
      "\n",
      "LogisticRegression with TfidfVectorizer Test f1: 0.9946484837992248\n",
      "LogisticRegression with TfidfVectorizer Test classification report:\n",
      "              precision    recall  f1-score   support\n",
      "\n",
      "           0       1.00      1.00      1.00       630\n",
      "           1       0.99      0.97      0.98       120\n",
      "\n",
      "    accuracy                           0.99       750\n",
      "   macro avg       0.99      0.99      0.99       750\n",
      "weighted avg       0.99      0.99      0.99       750\n",
      "\n",
      "NaiveBayes with TfidfVectorizer Test f1: 0.9810010270455323\n",
      "NaiveBayes with TfidfVectorizer Test classification report:\n",
      "              precision    recall  f1-score   support\n",
      "\n",
      "           0       0.98      1.00      0.99       630\n",
      "           1       0.98      0.90      0.94       120\n",
      "\n",
      "    accuracy                           0.98       750\n",
      "   macro avg       0.98      0.95      0.96       750\n",
      "weighted avg       0.98      0.98      0.98       750\n"
     ]
    }
   ],
   "source": [
    "best_f1 = 0  \n",
    "best_model_name = \"\" \n",
    "\n",
    "for model_name, result in results.items():\n",
    "    best_model = result['best_model']\n",
    "    X_test_vec = X_test_count if \"CountVectorizer\" in model_name else X_test_tfidf\n",
    "    y_pred = best_model.predict(X_test_vec)\n",
    "    f1 = f1_score(y_test, y_pred, average='weighted')\n",
    "\n",
    "    if f1 > best_f1:\n",
    "        best_f1 = f1\n",
    "        best_model_name = model_name\n",
    "\n",
    "    report = classification_report(y_test, y_pred)\n",
    "\n",
    "    print(f\"{model_name} Test f1: {f1}\")\n",
    "    print(f\"{model_name} Test classification report:\")\n",
    "    print(report)"
   ],
   "metadata": {
    "collapsed": false,
    "ExecuteTime": {
     "end_time": "2023-10-26T13:08:22.815593600Z",
     "start_time": "2023-10-26T13:08:22.677156500Z"
    }
   },
   "id": "4ec88fcc890d81c4"
  },
  {
   "cell_type": "code",
   "execution_count": 11,
   "outputs": [
    {
     "name": "stdout",
     "output_type": "stream",
     "text": [
      "The best model is: LogisticRegression with CountVectorizer with test F1 score: 0.9946666666666667\n"
     ]
    }
   ],
   "source": [
    "print(f\"The best model is: {best_model_name} with test F1 score: {best_f1}\")"
   ],
   "metadata": {
    "collapsed": false,
    "ExecuteTime": {
     "end_time": "2023-10-26T13:08:22.817400300Z",
     "start_time": "2023-10-26T13:08:22.805990600Z"
    }
   },
   "id": "3d8359231500b8c8"
  }
 ],
 "metadata": {
  "kernelspec": {
   "display_name": "Python 3",
   "language": "python",
   "name": "python3"
  },
  "language_info": {
   "codemirror_mode": {
    "name": "ipython",
    "version": 2
   },
   "file_extension": ".py",
   "mimetype": "text/x-python",
   "name": "python",
   "nbconvert_exporter": "python",
   "pygments_lexer": "ipython2",
   "version": "2.7.6"
  }
 },
 "nbformat": 4,
 "nbformat_minor": 5
}
